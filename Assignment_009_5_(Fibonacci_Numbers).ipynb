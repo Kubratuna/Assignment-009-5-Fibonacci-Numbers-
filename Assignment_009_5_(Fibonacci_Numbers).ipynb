{
  "nbformat": 4,
  "nbformat_minor": 0,
  "metadata": {
    "colab": {
      "name": "Assignment-009/5 (Fibonacci Numbers)",
      "provenance": []
    },
    "kernelspec": {
      "name": "python3",
      "display_name": "Python 3"
    },
    "language_info": {
      "name": "python"
    }
  },
  "cells": [
    {
      "cell_type": "code",
      "metadata": {
        "colab": {
          "base_uri": "https://localhost:8080/"
        },
        "id": "QXV4zKGMAW8J",
        "outputId": "b26e0f0f-d0ba-4111-8262-cee58f459de5"
      },
      "source": [
        "def fibonacci(n):\n",
        "  sequence = [1,1]\n",
        "\n",
        "  for i in range(2, n+1):\n",
        "    next_num = sequence[-1] + sequence[-2]\n",
        "\n",
        "    sequence.append(next_num)\n",
        "  return sequence\n",
        "\n",
        "sequence = fibonacci(9)\n",
        "print(sequence)"
      ],
      "execution_count": 6,
      "outputs": [
        {
          "output_type": "stream",
          "text": [
            "[1, 1, 2, 3, 5, 8, 13, 21, 34, 55]\n"
          ],
          "name": "stdout"
        }
      ]
    },
    {
      "cell_type": "code",
      "metadata": {
        "id": "awfBONuYAXeI"
      },
      "source": [
        ""
      ],
      "execution_count": null,
      "outputs": []
    }
  ]
}